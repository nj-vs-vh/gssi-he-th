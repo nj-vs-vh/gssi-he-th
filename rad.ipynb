{
 "cells": [
  {
   "cell_type": "markdown",
   "metadata": {},
   "source": [
    "# Electromagnetic radiation refresher\n",
    "\n",
    "- Radiation from Electric Dipole Moment. Masatsugu Sei Suzuki and Itsuko S. Suzuki\n",
    "  ([link](https://bingweb.binghamton.edu/~suzuki/SeniorLab_pdf/16_Radiation_from_electric_dipole.pdf))\n",
    "\n",
    "TBD: moving charge radiation simulation, oscillating dipole, spinning dipole, Larmor-rotating electron"
   ]
  },
  {
   "cell_type": "code",
   "execution_count": null,
   "metadata": {},
   "outputs": [],
   "source": []
  }
 ],
 "metadata": {
  "language_info": {
   "name": "python"
  }
 },
 "nbformat": 4,
 "nbformat_minor": 2
}
