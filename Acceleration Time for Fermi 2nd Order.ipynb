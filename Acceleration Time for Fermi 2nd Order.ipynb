{
 "cells": [
  {
   "cell_type": "code",
   "execution_count": 2,
   "metadata": {},
   "outputs": [],
   "source": [
    "import astropy.constants as const\n",
    "import astropy.units as u\n",
    "import matplotlib\n",
    "import matplotlib.pyplot as plt\n",
    "import numpy as np\n",
    "\n",
    "from plotting import label_axes"
   ]
  },
  {
   "cell_type": "markdown",
   "metadata": {},
   "source": [
    "# Problem statement\n",
    "\n",
    "..."
   ]
  },
  {
   "cell_type": "code",
   "execution_count": 11,
   "metadata": {},
   "outputs": [
    {
     "name": "stdout",
     "output_type": "stream",
     "text": [
      "xi = 3.34e-02\n"
     ]
    }
   ],
   "source": [
    "V = 1e4 * u.km / u.s\n",
    "r = 4\n",
    "\n",
    "u1 = V\n",
    "u2 = V / r\n",
    "\n",
    "xi = (4/3 * (u1 - u2) / const.c).decompose()\n",
    "print(f\"{xi = :.2e}\")"
   ]
  },
  {
   "cell_type": "code",
   "execution_count": 17,
   "metadata": {},
   "outputs": [
    {
     "name": "stdout",
     "output_type": "stream",
     "text": [
      "t step = 5.39 kyr\n"
     ]
    }
   ],
   "source": [
    "D = 1e28 * u.cm**2 / u.s\n",
    "\n",
    "t_step = (D / u1 **2 + D / u2**2).to(u.kyr)\n",
    "\n",
    "print(f\"t step = {t_step:.2f}\")"
   ]
  },
  {
   "cell_type": "code",
   "execution_count": 20,
   "metadata": {},
   "outputs": [
    {
     "name": "stdout",
     "output_type": "stream",
     "text": [
      "t acc = 161.50 kyr\n"
     ]
    }
   ],
   "source": [
    "t_acc = t_step / xi\n",
    "\n",
    "print(f\"t acc = {t_acc.to(u.kyr):.2f}\")"
   ]
  },
  {
   "cell_type": "code",
   "execution_count": null,
   "metadata": {},
   "outputs": [],
   "source": []
  }
 ],
 "metadata": {
  "kernelspec": {
   "display_name": "venv",
   "language": "python",
   "name": "python3"
  },
  "language_info": {
   "codemirror_mode": {
    "name": "ipython",
    "version": 3
   },
   "file_extension": ".py",
   "mimetype": "text/x-python",
   "name": "python",
   "nbconvert_exporter": "python",
   "pygments_lexer": "ipython3",
   "version": "3.12.3"
  }
 },
 "nbformat": 4,
 "nbformat_minor": 2
}
